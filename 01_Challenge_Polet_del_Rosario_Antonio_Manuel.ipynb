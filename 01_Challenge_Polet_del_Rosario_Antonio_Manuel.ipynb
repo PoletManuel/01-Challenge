{
  "nbformat": 4,
  "nbformat_minor": 0,
  "metadata": {
    "colab": {
      "name": "01 Challenge  - Polet del Rosario Antonio Manuel.ipynb",
      "provenance": [],
      "collapsed_sections": [],
      "authorship_tag": "ABX9TyPwZFk3jHPnUT5DYPLIGy/2",
      "include_colab_link": true
    },
    "kernelspec": {
      "name": "python3",
      "display_name": "Python 3"
    },
    "language_info": {
      "name": "python"
    }
  },
  "cells": [
    {
      "cell_type": "markdown",
      "metadata": {
        "id": "view-in-github",
        "colab_type": "text"
      },
      "source": [
        "<a href=\"https://colab.research.google.com/github/PoletManuel/01-Challenge/blob/main/01_Challenge_Polet_del_Rosario_Antonio_Manuel.ipynb\" target=\"_parent\"><img src=\"https://colab.research.google.com/assets/colab-badge.svg\" alt=\"Open In Colab\"/></a>"
      ]
    },
    {
      "cell_type": "markdown",
      "source": [
        "Ejercicio 0"
      ],
      "metadata": {
        "id": "U3CBzamVhh75"
      }
    },
    {
      "cell_type": "code",
      "source": [
        "color = \"blue\"\n",
        "\n",
        "print(color)"
      ],
      "metadata": {
        "colab": {
          "base_uri": "https://localhost:8080/"
        },
        "id": "rCe9RKBihkUv",
        "outputId": "d20b929c-7fc4-47fe-e29f-4c4d89401c3d"
      },
      "execution_count": 6,
      "outputs": [
        {
          "output_type": "stream",
          "name": "stdout",
          "text": [
            "blue\n"
          ]
        }
      ]
    },
    {
      "cell_type": "markdown",
      "source": [
        "Ejercicio 1"
      ],
      "metadata": {
        "id": "Ss1BNZKibtv9"
      }
    },
    {
      "cell_type": "code",
      "source": [
        "pi = 3.14159\n",
        "diameter = 3\n",
        "radius = diameter/2\n",
        "area = pi*radius**2\n",
        "\n",
        "print(area)"
      ],
      "metadata": {
        "colab": {
          "base_uri": "https://localhost:8080/"
        },
        "id": "4k6HJnBxfhaI",
        "outputId": "c57b4f92-ce29-4869-a82d-f7c81e87945b"
      },
      "execution_count": 5,
      "outputs": [
        {
          "output_type": "stream",
          "name": "stdout",
          "text": [
            "7.0685775\n"
          ]
        }
      ]
    },
    {
      "cell_type": "markdown",
      "source": [
        "Ejercicio 2"
      ],
      "metadata": {
        "id": "EVYJQSQThFxQ"
      }
    },
    {
      "cell_type": "code",
      "source": [
        "a = [1, 2, 3]\n",
        "b = [3, 2, 1]\n",
        "\n",
        "c=a\n",
        "a=b\n",
        "b=c\n",
        "\n",
        "print(a)\n",
        "print(b)"
      ],
      "metadata": {
        "colab": {
          "base_uri": "https://localhost:8080/"
        },
        "id": "787O0Yd9hKJe",
        "outputId": "731cb08c-ab5b-48af-df4b-088d46a3b88a"
      },
      "execution_count": 7,
      "outputs": [
        {
          "output_type": "stream",
          "name": "stdout",
          "text": [
            "[3, 2, 1]\n",
            "[1, 2, 3]\n"
          ]
        }
      ]
    },
    {
      "cell_type": "markdown",
      "source": [
        "Ejercicio 3a"
      ],
      "metadata": {
        "id": "CMqiMr5FicG4"
      }
    },
    {
      "cell_type": "code",
      "source": [
        "(5-3) // 2"
      ],
      "metadata": {
        "colab": {
          "base_uri": "https://localhost:8080/"
        },
        "id": "dErhf-B7ifJI",
        "outputId": "9322ceda-6025-4475-f079-af675b993915"
      },
      "execution_count": 8,
      "outputs": [
        {
          "output_type": "execute_result",
          "data": {
            "text/plain": [
              "1"
            ]
          },
          "metadata": {},
          "execution_count": 8
        }
      ]
    },
    {
      "cell_type": "markdown",
      "source": [
        "Ejercicio 3b"
      ],
      "metadata": {
        "id": "IyYhl4bykeR4"
      }
    },
    {
      "cell_type": "code",
      "source": [
        "8-(3*2)-(1+1)"
      ],
      "metadata": {
        "colab": {
          "base_uri": "https://localhost:8080/"
        },
        "id": "PJM9yngDk8Jm",
        "outputId": "cd673daf-ddc1-4292-801a-d592d7bbe0b0"
      },
      "execution_count": 9,
      "outputs": [
        {
          "output_type": "execute_result",
          "data": {
            "text/plain": [
              "0"
            ]
          },
          "metadata": {},
          "execution_count": 9
        }
      ]
    },
    {
      "cell_type": "markdown",
      "source": [
        "Ejercicio 4"
      ],
      "metadata": {
        "id": "9Sk_-OkelV2M"
      }
    },
    {
      "cell_type": "code",
      "source": [
        "alice_candies = 121\n",
        "bob_candies = 77\n",
        "carol_candies = 109\n",
        "\n",
        "total = alice_candies + bob_candies + carol_candies\n",
        "a = total // 3\n",
        "b = a * 3 - total\n",
        "dulces = total % 3\n",
        "\n",
        "print(dulces)\n",
        "\n",
        "print(b)"
      ],
      "metadata": {
        "colab": {
          "base_uri": "https://localhost:8080/"
        },
        "id": "D8XXIsxblXH3",
        "outputId": "cae2b239-2b7f-4077-8aa5-c5850ecd503a"
      },
      "execution_count": 17,
      "outputs": [
        {
          "output_type": "stream",
          "name": "stdout",
          "text": [
            "1\n",
            "-1\n"
          ]
        }
      ]
    },
    {
      "cell_type": "code",
      "source": [
        "to_smash = (alice_candies + bob_candies + carol_candies) % 3\n",
        "\n",
        "print(to_smash)"
      ],
      "metadata": {
        "colab": {
          "base_uri": "https://localhost:8080/"
        },
        "id": "Qmuri-DvmNio",
        "outputId": "2cad336f-a437-4648-da87-25295a6ba0da"
      },
      "execution_count": 14,
      "outputs": [
        {
          "output_type": "stream",
          "name": "stdout",
          "text": [
            "1\n"
          ]
        }
      ]
    }
  ]
}